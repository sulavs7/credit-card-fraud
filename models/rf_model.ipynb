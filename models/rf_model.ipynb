{
 "cells": [
  {
   "cell_type": "code",
   "execution_count": 19,
   "id": "17512a89",
   "metadata": {},
   "outputs": [],
   "source": [
    "import joblib \n",
    "from sklearn.ensemble import RandomForestClassifier\n",
    "from evaluation import evaluate_classification\n",
    "from sklearn.model_selection import RandomizedSearchCV\n"
   ]
  },
  {
   "cell_type": "code",
   "execution_count": 20,
   "id": "3a34f658",
   "metadata": {},
   "outputs": [],
   "source": [
    "\n",
    "# Load the preprocessed data\n",
    "data = joblib.load('data/preprocessed_data.pkl')\n",
    "\n",
    "X_train_resampled = data['X_train_resampled']\n",
    "y_train_resampled = data['y_train_resampled']\n",
    "X_test = data['X_test_scaled']\n",
    "y_test = data['y_test']\n"
   ]
  },
  {
   "cell_type": "code",
   "execution_count": 4,
   "id": "3666eb33",
   "metadata": {},
   "outputs": [],
   "source": [
    "# param_grid={\n",
    "#     'n_estimators':[50,100],\n",
    "#     # 'max_depth':[10,20,None]\n",
    "# }"
   ]
  },
  {
   "cell_type": "code",
   "execution_count": 5,
   "id": "14b66932",
   "metadata": {},
   "outputs": [],
   "source": [
    "# rf_model=RandomForestClassifier(random_state=42)#the verbose=2 setting in scikit-learn models like Random Forest will show the progress of the training process, including details such as the completion of each tree in the forest"
   ]
  },
  {
   "cell_type": "code",
   "execution_count": 6,
   "id": "c620064e",
   "metadata": {},
   "outputs": [],
   "source": [
    "# random_search = RandomizedSearchCV(\n",
    "#     rf_model, \n",
    "#     param_distributions=param_grid, \n",
    "#     n_iter=5, \n",
    "#     cv=3, \n",
    "#     n_jobs=-1, \n",
    "#     verbose=2, \n",
    "#     scoring='recall',  # Optimize for recall\n",
    "#     random_state=42\n",
    "# )\n",
    "\n",
    "# # Fit the RandomizedSearchCV\n",
    "# random_search.fit(X_train_resampled, y_train_resampled)\n",
    "\n",
    "# # Get the best model and evaluate\n",
    "# best_model = random_search.best_estimator_\n",
    "# y_pred = best_model.predict(X_test)\n",
    "\n",
    "# # Get the best parameters and best score\n",
    "# print(f\"Best Parameters: {random_search.best_params_}\")\n",
    "# print(f\"Best Recall Score: {random_search.best_score_}\")"
   ]
  },
  {
   "cell_type": "markdown",
   "id": "b81d58f7",
   "metadata": {},
   "source": [
    "Fitting 3 folds for each of 5 candidates, totalling 15 fits\n",
    "\n",
    "\n",
    "Best Parameters: {'n_estimators': 100, 'max_depth': None}\n",
    "\n",
    "\n",
    "Best Recall Score: 1.0"
   ]
  },
  {
   "cell_type": "code",
   "execution_count": 3,
   "id": "5ac85882",
   "metadata": {},
   "outputs": [
    {
     "name": "stdout",
     "output_type": "stream",
     "text": [
      "building tree 1 of 100\n",
      "building tree 2 of 100\n",
      "building tree 3 of 100\n",
      "building tree 4 of 100\n",
      "building tree 5 of 100\n",
      "building tree 6 of 100\n",
      "building tree 7 of 100\n",
      "building tree 8 of 100\n",
      "building tree 9 of 100\n",
      "building tree 10 of 100\n",
      "building tree 11 of 100\n",
      "building tree 12 of 100\n",
      "building tree 13 of 100\n",
      "building tree 14 of 100\n",
      "building tree 15 of 100\n",
      "building tree 16 of 100\n",
      "building tree 17 of 100\n",
      "building tree 18 of 100\n",
      "building tree 19 of 100\n",
      "building tree 20 of 100\n",
      "building tree 21 of 100\n",
      "building tree 22 of 100\n",
      "building tree 23 of 100\n",
      "building tree 24 of 100\n",
      "building tree 25 of 100\n",
      "building tree 26 of 100\n",
      "building tree 27 of 100\n",
      "building tree 28 of 100\n",
      "building tree 29 of 100\n",
      "building tree 30 of 100\n",
      "building tree 31 of 100\n",
      "building tree 32 of 100\n",
      "building tree 33 of 100\n",
      "building tree 34 of 100\n",
      "building tree 35 of 100\n",
      "building tree 36 of 100\n",
      "building tree 37 of 100\n",
      "building tree 38 of 100\n",
      "building tree 39 of 100\n",
      "building tree 40 of 100\n"
     ]
    },
    {
     "name": "stderr",
     "output_type": "stream",
     "text": [
      "[Parallel(n_jobs=1)]: Done  40 tasks      | elapsed:  6.4min\n"
     ]
    },
    {
     "name": "stdout",
     "output_type": "stream",
     "text": [
      "building tree 41 of 100\n",
      "building tree 42 of 100\n",
      "building tree 43 of 100\n",
      "building tree 44 of 100\n",
      "building tree 45 of 100\n",
      "building tree 46 of 100\n",
      "building tree 47 of 100\n",
      "building tree 48 of 100\n",
      "building tree 49 of 100\n",
      "building tree 50 of 100\n",
      "building tree 51 of 100\n",
      "building tree 52 of 100\n",
      "building tree 53 of 100\n",
      "building tree 54 of 100\n",
      "building tree 55 of 100\n",
      "building tree 56 of 100\n",
      "building tree 57 of 100\n",
      "building tree 58 of 100\n",
      "building tree 59 of 100\n",
      "building tree 60 of 100\n",
      "building tree 61 of 100\n",
      "building tree 62 of 100\n",
      "building tree 63 of 100\n",
      "building tree 64 of 100\n",
      "building tree 65 of 100\n",
      "building tree 66 of 100\n",
      "building tree 67 of 100\n",
      "building tree 68 of 100\n",
      "building tree 69 of 100\n",
      "building tree 70 of 100\n",
      "building tree 71 of 100\n",
      "building tree 72 of 100\n",
      "building tree 73 of 100\n",
      "building tree 74 of 100\n",
      "building tree 75 of 100\n",
      "building tree 76 of 100\n",
      "building tree 77 of 100\n",
      "building tree 78 of 100\n",
      "building tree 79 of 100\n",
      "building tree 80 of 100\n",
      "building tree 81 of 100\n",
      "building tree 82 of 100\n",
      "building tree 83 of 100\n",
      "building tree 84 of 100\n",
      "building tree 85 of 100\n",
      "building tree 86 of 100\n",
      "building tree 87 of 100\n",
      "building tree 88 of 100\n",
      "building tree 89 of 100\n",
      "building tree 90 of 100\n",
      "building tree 91 of 100\n",
      "building tree 92 of 100\n",
      "building tree 93 of 100\n",
      "building tree 94 of 100\n",
      "building tree 95 of 100\n",
      "building tree 96 of 100\n",
      "building tree 97 of 100\n",
      "building tree 98 of 100\n",
      "building tree 99 of 100\n",
      "building tree 100 of 100\n"
     ]
    },
    {
     "name": "stderr",
     "output_type": "stream",
     "text": [
      "[Parallel(n_jobs=1)]: Done  40 tasks      | elapsed:    2.3s\n",
      "[Parallel(n_jobs=1)]: Done  40 tasks      | elapsed:    0.3s\n"
     ]
    },
    {
     "name": "stdout",
     "output_type": "stream",
     "text": [
      "Random Forest\n",
      "Training Metrics:\n",
      "{'Accuracy': 1.0, 'Precision': 1.0, 'Recall': 1.0, 'F1 Score': 1.0, 'ROC-AUC Score': np.float64(1.0), 'Confusion Matrix': array([[227451,      0],\n",
      "       [     0, 227451]])}\n",
      "Accuracy:1.0\n",
      "Precision:1.0\n",
      "Recall:1.0\n",
      "F1 Score:1.0\n",
      "ROC-AUC Score:1.0\n",
      "Confusion Matrix:[[227451      0]\n",
      " [     0 227451]]\n",
      "\n",
      "Testing Metrics:\n",
      "Accuracy:0.9994908886626171\n",
      "Precision:0.9353344046504162\n",
      "Recall:0.9131597912096747\n",
      "F1 Score:0.9239562780523485\n",
      "ROC-AUC Score:0.9131597912096746\n",
      "Confusion Matrix:[[56852    12]\n",
      " [   17    81]]\n"
     ]
    }
   ],
   "source": [
    "rf_model=RandomForestClassifier(n_estimators=100,random_state=42,verbose=2)#the verbose=2 setting in scikit-learn models like Random Forest will show the progress of the training process, including details such as the completion of each tree in the forest\n",
    "\n",
    "rf_model.fit(X_train_resampled,y_train_resampled)\n",
    "\n",
    "y_train_pred=rf_model.predict(X_train_resampled)\n",
    "y_test_pred=rf_model.predict(X_test)\n",
    "\n",
    "print(\"Random Forest\")\n",
    "print(f\"Training Metrics:\")\n",
    "metrics = evaluate_classification(y_train_resampled, y_train_pred)  \n",
    "print(metrics)\n",
    "for key,value in metrics.items():\n",
    "    print(f\"{key}:{value}\")\n",
    "\n",
    "# Evaluation for testing data\n",
    "print(f\"\\nTesting Metrics:\")\n",
    "metrics = evaluate_classification(y_test, y_test_pred)  \n",
    "for key,value in metrics.items():\n",
    "    print(f\"{key}:{value}\")\n"
   ]
  },
  {
   "cell_type": "code",
   "execution_count": 5,
   "id": "92b9b901",
   "metadata": {},
   "outputs": [
    {
     "name": "stderr",
     "output_type": "stream",
     "text": [
      "[Parallel(n_jobs=1)]: Done  40 tasks      | elapsed:    2.6s\n",
      "[Parallel(n_jobs=1)]: Done  40 tasks      | elapsed:    0.3s\n"
     ]
    },
    {
     "data": {
      "text/plain": [
       "Text(0.5, 1.0, 'Train vs. Test ROC (SMOTE + RF)')"
      ]
     },
     "execution_count": 5,
     "metadata": {},
     "output_type": "execute_result"
    },
    {
     "data": {
      "image/png": "[encoded data removed]",
      "text/plain": [
       "<Figure size 640x480 with 1 Axes>"
      ]
     },
     "metadata": {},
     "output_type": "display_data"
    },
    {
     "data": {
      "image/png": "[encoded data removed]",
      "text/plain": [
       "<Figure size 640x480 with 1 Axes>"
      ]
     },
     "metadata": {},
     "output_type": "display_data"
    }
   ],
   "source": [
    "from sklearn.metrics import RocCurveDisplay\n",
    "import matplotlib.pyplot as plt \n",
    "\n",
    "# Train\n",
    "RocCurveDisplay.from_estimator(rf_model, X_train_resampled, y_train_resampled, name=\"Train\")\n",
    "\n",
    "# Test\n",
    "RocCurveDisplay.from_estimator(rf_model, X_test, y_test, name=\"Test\")\n",
    "plt.title(\"Train vs. Test ROC (SMOTE + RF)\")"
   ]
  },
  {
   "cell_type": "code",
   "execution_count": 8,
   "id": "94a89c25",
   "metadata": {},
   "outputs": [
    {
     "data": {
      "text/plain": [
       "['random_forest_model.joblib']"
      ]
     },
     "execution_count": 8,
     "metadata": {},
     "output_type": "execute_result"
    }
   ],
   "source": [
    "# Save the model\n",
    "joblib.dump(rf_model, 'random_forest_model.joblib')\n",
    "\n"
   ]
  },
  {
   "cell_type": "code",
   "execution_count": 9,
   "id": "15994df6",
   "metadata": {},
   "outputs": [
    {
     "name": "stderr",
     "output_type": "stream",
     "text": [
      "[Parallel(n_jobs=1)]: Done  40 tasks      | elapsed:    0.1s\n"
     ]
    },
    {
     "name": "stdout",
     "output_type": "stream",
     "text": [
      "Accuracy:0.9994908886626171\n",
      "Precision:0.9353344046504162\n",
      "Recall:0.9131597912096747\n",
      "F1 Score:0.9239562780523485\n",
      "ROC-AUC Score:0.9131597912096746\n",
      "Confusion Matrix:[[56852    12]\n",
      " [   17    81]]\n"
     ]
    }
   ],
   "source": [
    "# Load the model later for predictions\n",
    "loaded_model = joblib.load('random_forest_model.joblib')\n",
    "y_pred= loaded_model.predict(X_test)  # Assuming X_test is your test data\n",
    "metrics = evaluate_classification(y_test, y_pred)  \n",
    "for key,value in metrics.items():\n",
    "    print(f\"{key}:{value}\")"
   ]
  }
 ],
 "metadata": {
  "kernelspec": {
   "display_name": "datascience",
   "language": "python",
   "name": "python3"
  },
  "language_info": {
   "codemirror_mode": {
    "name": "ipython",
    "version": 3
   },
   "file_extension": ".py",
   "mimetype": "text/x-python",
   "name": "python",
   "nbconvert_exporter": "python",
   "pygments_lexer": "ipython3",
   "version": "3.13.3"
  }
 },
 "nbformat": 4,
 "nbformat_minor": 5
}
